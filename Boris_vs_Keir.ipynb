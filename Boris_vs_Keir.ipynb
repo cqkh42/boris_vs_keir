{
 "cells": [
  {
   "cell_type": "markdown",
   "id": "independent-procedure",
   "metadata": {},
   "source": [
    "# Keir Vs Boris\n",
    "\n",
    "Is it a bird, is it a plane, is it a blonde baffoon who spends 99% of his life just winging it, or is it a knight of the realm, former Director of Public Prosecutions and real life embodiment of Mark Darcy.\n",
    "\n",
    "Let's let the model decide."
   ]
  },
  {
   "cell_type": "code",
   "execution_count": 2,
   "id": "other-browser",
   "metadata": {},
   "outputs": [],
   "source": [
    "from pathlib import Path\n",
    "\n",
    "\n",
    "import ipywidgets as widgets\n",
    "import fastai.vision.all as vision\n",
    "import requests\n",
    "\n",
    "from download_data import MODEL_PATH"
   ]
  },
  {
   "cell_type": "code",
   "execution_count": 3,
   "id": "loose-chapter",
   "metadata": {},
   "outputs": [],
   "source": [
    "model = vision.load_learner(MODEL_PATH)"
   ]
  },
  {
   "cell_type": "code",
   "execution_count": 32,
   "id": "incomplete-gentleman",
   "metadata": {},
   "outputs": [],
   "source": [
    "def get_image():\n",
    "    url = user_url.value\n",
    "    data = requests.get(url, stream=True).raw\n",
    "    return vision.PILImage.create(data)\n",
    "\n",
    "def on_click_classify(change):\n",
    "    img = get_image()\n",
    "    out_l.clear_output(wait=True)\n",
    "    out_r.clear_output(wait=True)\n",
    "\n",
    "    pred,pred_idx,probs = model.predict(img)\n",
    "    prob = probs[pred_idx] * 100\n",
    "    s = f\"I'm {prob:.0f}% sure that is {pred.title()}.\"\n",
    "    pred_image = pred.replace(' ', '_') + '.jpg'\n",
    "    p = vision.PILImage.create((Path('img') / pred_image).read_bytes())\n",
    "    with out_l:\n",
    "        display(img.to_thumb(500,500))\n",
    "    with out_r:\n",
    "        display(p.to_thumb(500, 500))\n",
    "    lab.value = s\n",
    "\n",
    "\n",
    "def clear_page(_):\n",
    "    print('clicked')\n",
    "    out_l.clear_output()\n",
    "    out_r.clear_output()\n",
    "    lab.value = ''\n",
    "    user_url.value = ''\n"
   ]
  },
  {
   "cell_type": "code",
   "execution_count": 33,
   "id": "experienced-wages",
   "metadata": {},
   "outputs": [],
   "source": [
    "start_button = widgets.Button(\n",
    "    description='Start',\n",
    "    disabled=False,\n",
    "    button_style='info', # 'success', 'info', 'warning', 'danger' or ''\n",
    "    tooltip='Start',\n",
    "    icon='play' # (FontAwesome names without the `fa-` prefix)\n",
    ")\n",
    "\n",
    "reset_button = widgets.Button(\n",
    "    description='Reset',\n",
    "    disabled=False,\n",
    "    button_style='info', # 'success', 'info', 'warning', 'danger' or ''\n",
    "    tooltip='Reset',\n",
    "    icon='refresh',  # (FontAwesome names without the `fa-` prefix)\n",
    ")\n",
    "start_button.on_click(on_click_classify)\n",
    "reset_button.on_click(clear_page)"
   ]
  },
  {
   "cell_type": "code",
   "execution_count": 34,
   "id": "chemical-closer",
   "metadata": {},
   "outputs": [
    {
     "data": {
      "application/vnd.jupyter.widget-view+json": {
       "model_id": "d1773310fc7a4c9d94c434f6fc2a522b",
       "version_major": 2,
       "version_minor": 0
      },
      "text/plain": [
       "VBox(children=(HBox(children=(Text(value='', layout=Layout(width='80%'), placeholder='Image URL'),), layout=La…"
      ]
     },
     "metadata": {},
     "output_type": "display_data"
    }
   ],
   "source": [
    "user_url = widgets.Text(\n",
    "    value='',\n",
    "    placeholder='Image URL',\n",
    "    description='',\n",
    "    disabled=False,\n",
    "    layout=widgets.Layout(width='80%')\n",
    "    \n",
    ")\n",
    "\n",
    "out_l = widgets.Output()\n",
    "out_r = widgets.Output()\n",
    "out_url = widgets.Output()\n",
    "lab = widgets.Label()\n",
    "\n",
    "url_row = widgets.HBox([user_url], layout=widgets.Layout(justify_content='center', margin='5px'))\n",
    "button_row = widgets.HBox([start_button, reset_button], layout=widgets.Layout(justify_content='center', margin='5px'))\n",
    "bottom_box = widgets.HBox([out_l, out_r], layout=widgets.Layout(width='100%', justify_content='space-around', display='flex-box', align_items='center'))\n",
    "bb = widgets.HBox([lab])\n",
    "\n",
    "widgets.VBox([url_row, button_row, bottom_box, bb])"
   ]
  }
 ],
 "metadata": {
  "kernelspec": {
   "display_name": "Python 3",
   "language": "python",
   "name": "python3"
  },
  "language_info": {
   "codemirror_mode": {
    "name": "ipython",
    "version": 3
   },
   "file_extension": ".py",
   "mimetype": "text/x-python",
   "name": "python",
   "nbconvert_exporter": "python",
   "pygments_lexer": "ipython3",
   "version": "3.9.4"
  },
  "voila": {
   "theme": "dark"
  }
 },
 "nbformat": 4,
 "nbformat_minor": 5
}
