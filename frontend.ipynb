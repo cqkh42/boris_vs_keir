{
 "cells": [
  {
   "cell_type": "code",
   "execution_count": 1,
   "id": "empty-semiconductor",
   "metadata": {},
   "outputs": [],
   "source": [
    "from pathlib import Path\n",
    "\n",
    "\n",
    "import ipywidgets as widgets\n",
    "import fastai.vision.all as vision\n",
    "import requests"
   ]
  },
  {
   "cell_type": "code",
   "execution_count": 2,
   "id": "respected-trust",
   "metadata": {},
   "outputs": [],
   "source": [
    "from download_data import download_file_from_google_drive, DEFAULT_MODEL_LOCATION"
   ]
  },
  {
   "cell_type": "code",
   "execution_count": 3,
   "id": "outside-present",
   "metadata": {},
   "outputs": [],
   "source": [
    "if not DEFAULT_MODEL_LOCATION.exists():\n",
    "    download_file_from_google_drive()"
   ]
  },
  {
   "cell_type": "code",
   "execution_count": 4,
   "id": "furnished-section",
   "metadata": {},
   "outputs": [],
   "source": [
    "model = vision.load_learner(DEFAULT_MODEL_LOCATION)"
   ]
  },
  {
   "cell_type": "code",
   "execution_count": 5,
   "id": "orange-assumption",
   "metadata": {},
   "outputs": [],
   "source": [
    "url = 'https://static.toiimg.com/photo/msid-67586673/67586673.jpg?3918697'\n",
    "img = vision.PILImage.create(requests.get(url, stream=True).raw)\n"
   ]
  },
  {
   "cell_type": "code",
   "execution_count": 6,
   "id": "stylish-statement",
   "metadata": {},
   "outputs": [],
   "source": [
    "button = widgets.Button(\n",
    "    description='Start',\n",
    "    disabled=False,\n",
    "    button_style='info', # 'success', 'info', 'warning', 'danger' or ''\n",
    "    tooltip='Start',\n",
    "    icon='play' # (FontAwesome names without the `fa-` prefix)\n",
    ")\n",
    "\n",
    "def on_click_classify(change):\n",
    "    img = vision.PILImage.create(requests.get(url, stream=True).raw)\n",
    "    out_l.clear_output(wait=True)\n",
    "    out_r.clear_output(wait=True)\n",
    "\n",
    "    pred,pred_idx,probs = model.predict(img)\n",
    "    prob = probs[pred_idx] * 100\n",
    "    s = f\"I'm {prob:.0f}% sure that is {pred.title()}\"\n",
    "    pred_image = pred.replace(' ', '_') + '.jpg'\n",
    "    p = vision.PILImage.create(Path(pred_image).read_bytes())\n",
    "    with out_l:\n",
    "        display(img.to_thumb(500,500))\n",
    "    with out_r:\n",
    "        display(p.to_thumb(500, 500))\n",
    "    lab.value = s\n",
    "\n",
    "button.on_click(on_click_classify)"
   ]
  },
  {
   "cell_type": "code",
   "execution_count": 7,
   "id": "excessive-empire",
   "metadata": {},
   "outputs": [
    {
     "data": {
      "application/vnd.jupyter.widget-view+json": {
       "model_id": "48ecf7fd42b74db180afa6785515ff07",
       "version_major": 2,
       "version_minor": 0
      },
      "text/plain": [
       "VBox(children=(HBox(children=(Text(value='https://', layout=Layout(width='80%'), placeholder='Type something')…"
      ]
     },
     "metadata": {},
     "output_type": "display_data"
    }
   ],
   "source": [
    "user_url = widgets.Text(\n",
    "    value='https://',\n",
    "    placeholder='Type something',\n",
    "    description='',\n",
    "    disabled=False,\n",
    "    layout=widgets.Layout(width='80%')\n",
    "    \n",
    ")\n",
    "\n",
    "out_l = widgets.Output()\n",
    "out_r = widgets.Output()\n",
    "lab = widgets.Label()\n",
    "\n",
    "url_row = widgets.HBox([user_url], layout=widgets.Layout(justify_content='center', margin='5px'))\n",
    "button_row = widgets.HBox([button], layout=widgets.Layout(justify_content='center', margin='5px'))\n",
    "bottom_box = widgets.HBox([out_l, out_r], layout=widgets.Layout(width='100%', justify_content='space-around', display='flex-box', align_items='center'))\n",
    "bb = widgets.HBox([lab])\n",
    "\n",
    "widgets.VBox([url_row, button_row, bottom_box, bb])"
   ]
  },
  {
   "cell_type": "code",
   "execution_count": null,
   "id": "relative-cradle",
   "metadata": {},
   "outputs": [],
   "source": []
  }
 ],
 "metadata": {
  "kernelspec": {
   "display_name": "Python 3",
   "language": "python",
   "name": "python3"
  },
  "language_info": {
   "codemirror_mode": {
    "name": "ipython",
    "version": 3
   },
   "file_extension": ".py",
   "mimetype": "text/x-python",
   "name": "python",
   "nbconvert_exporter": "python",
   "pygments_lexer": "ipython3",
   "version": "3.9.2"
  },
  "voila": {
   "theme": "dark"
  }
 },
 "nbformat": 4,
 "nbformat_minor": 5
}
